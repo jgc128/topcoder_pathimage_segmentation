{
 "cells": [
  {
   "cell_type": "code",
   "execution_count": 64,
   "metadata": {
    "collapsed": true
   },
   "outputs": [],
   "source": [
    "%matplotlib inline"
   ]
  },
  {
   "cell_type": "code",
   "execution_count": 77,
   "metadata": {
    "collapsed": true
   },
   "outputs": [],
   "source": [
    "import numpy as np\n",
    "import pandas as pd\n",
    "from scipy.stats import gmean\n",
    "from skimage.morphology import remove_small_holes, remove_small_objects\n",
    "from skimage.filters import threshold_yen"
   ]
  },
  {
   "cell_type": "code",
   "execution_count": 66,
   "metadata": {
    "collapsed": true
   },
   "outputs": [],
   "source": [
    "import matplotlib.pyplot as plt"
   ]
  },
  {
   "cell_type": "code",
   "execution_count": 67,
   "metadata": {
    "collapsed": true
   },
   "outputs": [],
   "source": [
    "import config\n",
    "from utils.io import load_pickle\n",
    "from utils.torch.datasets import PathologicalImagesDataset, PathologicalImagesDatasetMode\n",
    "from utils.scoring import topcoder_metric\n",
    "from predict import get_prediction_filename"
   ]
  },
  {
   "cell_type": "code",
   "execution_count": 68,
   "metadata": {
    "collapsed": true
   },
   "outputs": [],
   "source": [
    "nb_folds = 5\n",
    "models_names= ['unet', 'unet_ds', ] # ['unet','unet_low','unet_ds','unet_ds2','unet_ds_low','unet_low']\n",
    "patch_size_train = 0\n",
    "patch_size_predict = 0\n",
    "use_dice = False\n",
    "use_tta = True"
   ]
  },
  {
   "cell_type": "code",
   "execution_count": 69,
   "metadata": {
    "collapsed": true
   },
   "outputs": [],
   "source": [
    "mode = PathologicalImagesDatasetMode.Val\n",
    "base_dir = config.DATASET_TRAIN_DIR"
   ]
  },
  {
   "cell_type": "code",
   "execution_count": 70,
   "metadata": {
    "collapsed": true
   },
   "outputs": [],
   "source": [
    "threshold = 0.4"
   ]
  },
  {
   "cell_type": "code",
   "execution_count": 71,
   "metadata": {
    "collapsed": true
   },
   "outputs": [],
   "source": [
    "models_predictions = {}\n",
    "for model_name in models_names:\n",
    "    masks = []\n",
    "    predictions = []\n",
    "    for fold_number in range(nb_folds):\n",
    "        # load data\n",
    "        dataset = PathologicalImagesDataset(base_dir, mode=mode, nb_folds=nb_folds, fold_number=fold_number)\n",
    "\n",
    "        fold_images = [dataset[i][0] for i in range(len(dataset))]\n",
    "        fold_masks = [dataset[i][1] for i in range(len(dataset))]    \n",
    "\n",
    "        fold_masks = np.stack(fold_masks)\n",
    "\n",
    "        # load predictions\n",
    "        filename = get_prediction_filename(model_name, mode, patch_size_train, patch_size_predict,fold_number, use_dice, use_tta)\n",
    "        _, fold_predictions = load_pickle(filename) \n",
    "\n",
    "        masks.append(fold_masks)\n",
    "        predictions.append(fold_predictions)\n",
    "        \n",
    "    masks = np.concatenate(masks, axis=0)\n",
    "    predictions = np.concatenate(predictions, axis=0)\n",
    "    \n",
    "    models_predictions[model_name] = predictions"
   ]
  },
  {
   "cell_type": "code",
   "execution_count": 72,
   "metadata": {},
   "outputs": [
    {
     "data": {
      "text/plain": [
       "dict_keys(['unet', 'unet_ds'])"
      ]
     },
     "execution_count": 72,
     "metadata": {},
     "output_type": "execute_result"
    }
   ],
   "source": [
    "models_predictions.keys()"
   ]
  },
  {
   "cell_type": "code",
   "execution_count": 73,
   "metadata": {
    "collapsed": true
   },
   "outputs": [],
   "source": [
    "# add mean predictions\n",
    "models_predictions['gmean'] = gmean([models_predictions[m] for m in models_names], axis=0)\n",
    "models_predictions['mean'] = np.mean([models_predictions[m] for m in models_names], axis=0)"
   ]
  },
  {
   "cell_type": "code",
   "execution_count": 90,
   "metadata": {
    "collapsed": true
   },
   "outputs": [],
   "source": [
    "models_predictions_masks = {}\n",
    "for model, predictions in models_predictions.items():\n",
    "    predictions_masks = np.zeros_like(predictions, dtype=np.bool)\n",
    "    predictions_masks[predictions>threshold] = 1\n",
    "    \n",
    "    models_predictions_masks[model] = predictions_masks"
   ]
  },
  {
   "cell_type": "code",
   "execution_count": 87,
   "metadata": {},
   "outputs": [],
   "source": [
    "# auto thresholds\n",
    "models_predictions_masks = {}\n",
    "for model, predictions in models_predictions.items():\n",
    "    ths = [threshold_yen(p) for p in predictions]\n",
    "    \n",
    "    predictions_masks = [p <= th for p, th in zip(ths, predictions)]\n",
    "    \n",
    "    models_predictions_masks[model] = np.stack(predictions_masks, axis=0)"
   ]
  },
  {
   "cell_type": "code",
   "execution_count": 91,
   "metadata": {},
   "outputs": [],
   "source": [
    "models_scores = {}\n",
    "for model, predictions_masks in models_predictions_masks.items():\n",
    "    score = topcoder_metric(masks, predictions_masks)\n",
    "    \n",
    "    models_scores[model] = score"
   ]
  },
  {
   "cell_type": "code",
   "execution_count": 92,
   "metadata": {},
   "outputs": [
    {
     "name": "stdout",
     "output_type": "stream",
     "text": [
      "unet            854184.3677182517\n",
      "unet_ds         855778.1279291501\n",
      "gmean           858841.1095664164\n",
      "mean            858587.3309670314\n"
     ]
    }
   ],
   "source": [
    "for model, score in models_scores.items():\n",
    "    print('{0:<15} {1}'.format(model, score))"
   ]
  },
  {
   "cell_type": "markdown",
   "metadata": {},
   "source": [
    "## Remove small objects"
   ]
  },
  {
   "cell_type": "code",
   "execution_count": 42,
   "metadata": {
    "collapsed": true
   },
   "outputs": [],
   "source": [
    "scores = []\n",
    "for size in range(10,200,25):\n",
    "    predictions_mask_wo = remove_small_objects(models_predictions_masks['gmean'].astype(np.bool), size)\n",
    "    predictions_mask_wh = remove_small_holes(models_predictions_masks['gmean'].astype(np.bool), size)\n",
    "    predictions_mask_who = remove_small_holes(remove_small_objects(models_predictions_masks['gmean'].astype(np.bool), size), size)\n",
    "    \n",
    "    score_wo = topcoder_metric(masks, predictions_mask_wo.astype(np.float))\n",
    "    score_wh = topcoder_metric(masks, predictions_mask_wh.astype(np.float))\n",
    "    score_who = topcoder_metric(masks, predictions_mask_who.astype(np.float))\n",
    "        \n",
    "    scores.append({'size': size,'objects': score_wo, 'holes':score_wh, 'objects_holes': score_who})"
   ]
  },
  {
   "cell_type": "code",
   "execution_count": 43,
   "metadata": {
    "collapsed": true
   },
   "outputs": [],
   "source": [
    "scores = pd.DataFrame(scores)"
   ]
  },
  {
   "cell_type": "code",
   "execution_count": 44,
   "metadata": {},
   "outputs": [
    {
     "data": {
      "text/html": [
       "<div>\n",
       "<style>\n",
       "    .dataframe thead tr:only-child th {\n",
       "        text-align: right;\n",
       "    }\n",
       "\n",
       "    .dataframe thead th {\n",
       "        text-align: left;\n",
       "    }\n",
       "\n",
       "    .dataframe tbody tr th {\n",
       "        vertical-align: top;\n",
       "    }\n",
       "</style>\n",
       "<table border=\"1\" class=\"dataframe\">\n",
       "  <thead>\n",
       "    <tr style=\"text-align: right;\">\n",
       "      <th></th>\n",
       "      <th>holes</th>\n",
       "      <th>objects</th>\n",
       "      <th>objects_holes</th>\n",
       "      <th>size</th>\n",
       "    </tr>\n",
       "  </thead>\n",
       "  <tbody>\n",
       "    <tr>\n",
       "      <th>0</th>\n",
       "      <td>857210.987965</td>\n",
       "      <td>857211.575037</td>\n",
       "      <td>857215.616437</td>\n",
       "      <td>10</td>\n",
       "    </tr>\n",
       "    <tr>\n",
       "      <th>1</th>\n",
       "      <td>857217.152756</td>\n",
       "      <td>857239.748796</td>\n",
       "      <td>857249.955354</td>\n",
       "      <td>35</td>\n",
       "    </tr>\n",
       "    <tr>\n",
       "      <th>2</th>\n",
       "      <td>857217.404646</td>\n",
       "      <td>857231.440556</td>\n",
       "      <td>857241.899303</td>\n",
       "      <td>60</td>\n",
       "    </tr>\n",
       "    <tr>\n",
       "      <th>3</th>\n",
       "      <td>857218.642741</td>\n",
       "      <td>857265.289799</td>\n",
       "      <td>857276.986083</td>\n",
       "      <td>85</td>\n",
       "    </tr>\n",
       "    <tr>\n",
       "      <th>4</th>\n",
       "      <td>857215.561028</td>\n",
       "      <td>857247.248379</td>\n",
       "      <td>857255.868922</td>\n",
       "      <td>110</td>\n",
       "    </tr>\n",
       "    <tr>\n",
       "      <th>5</th>\n",
       "      <td>857215.561028</td>\n",
       "      <td>857278.416488</td>\n",
       "      <td>857287.045583</td>\n",
       "      <td>135</td>\n",
       "    </tr>\n",
       "    <tr>\n",
       "      <th>6</th>\n",
       "      <td>857215.561028</td>\n",
       "      <td>857201.113339</td>\n",
       "      <td>857209.742203</td>\n",
       "      <td>160</td>\n",
       "    </tr>\n",
       "    <tr>\n",
       "      <th>7</th>\n",
       "      <td>857215.561028</td>\n",
       "      <td>857206.882924</td>\n",
       "      <td>857215.512027</td>\n",
       "      <td>185</td>\n",
       "    </tr>\n",
       "  </tbody>\n",
       "</table>\n",
       "</div>"
      ],
      "text/plain": [
       "           holes        objects  objects_holes  size\n",
       "0  857210.987965  857211.575037  857215.616437    10\n",
       "1  857217.152756  857239.748796  857249.955354    35\n",
       "2  857217.404646  857231.440556  857241.899303    60\n",
       "3  857218.642741  857265.289799  857276.986083    85\n",
       "4  857215.561028  857247.248379  857255.868922   110\n",
       "5  857215.561028  857278.416488  857287.045583   135\n",
       "6  857215.561028  857201.113339  857209.742203   160\n",
       "7  857215.561028  857206.882924  857215.512027   185"
      ]
     },
     "execution_count": 44,
     "metadata": {},
     "output_type": "execute_result"
    }
   ],
   "source": [
    "scores"
   ]
  },
  {
   "cell_type": "code",
   "execution_count": 45,
   "metadata": {},
   "outputs": [
    {
     "data": {
      "text/plain": [
       "<matplotlib.lines.Line2D at 0x7faecbee6d68>"
      ]
     },
     "execution_count": 45,
     "metadata": {},
     "output_type": "execute_result"
    },
    {
     "data": {
      "image/png": "[encoded data removed]",
      "text/plain": [
       "<matplotlib.figure.Figure at 0x7faecb9d0a58>"
      ]
     },
     "metadata": {},
     "output_type": "display_data"
    }
   ],
   "source": [
    "ax = scores.plot(x='size', y=['objects','holes','objects_holes',])\n",
    "ax.axhline(y=models_scores['gmean'], c='black')"
   ]
  },
  {
   "cell_type": "code",
   "execution_count": null,
   "metadata": {
    "collapsed": true
   },
   "outputs": [],
   "source": []
  }
 ],
 "metadata": {
  "kernelspec": {
   "display_name": "Python 3",
   "language": "python",
   "name": "python3"
  },
  "language_info": {
   "codemirror_mode": {
    "name": "ipython",
    "version": 3
   },
   "file_extension": ".py",
   "mimetype": "text/x-python",
   "name": "python",
   "nbconvert_exporter": "python",
   "pygments_lexer": "ipython3",
   "version": "3.6.1+"
  }
 },
 "nbformat": 4,
 "nbformat_minor": 2
}
