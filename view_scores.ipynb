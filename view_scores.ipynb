{
 "cells": [
  {
   "cell_type": "code",
   "execution_count": 1,
   "metadata": {
    "collapsed": true
   },
   "outputs": [],
   "source": [
    "%matplotlib inline"
   ]
  },
  {
   "cell_type": "code",
   "execution_count": 2,
   "metadata": {
    "collapsed": true
   },
   "outputs": [],
   "source": [
    "import numpy as np\n",
    "import pandas as pd"
   ]
  },
  {
   "cell_type": "code",
   "execution_count": 3,
   "metadata": {
    "collapsed": true
   },
   "outputs": [],
   "source": [
    "import matplotlib.pyplot as plt"
   ]
  },
  {
   "cell_type": "code",
   "execution_count": 4,
   "metadata": {
    "collapsed": true
   },
   "outputs": [],
   "source": [
    "import config\n",
    "from utils.io import load_pickle\n",
    "from utils.torch.datasets import PathologicalImagesDataset, PathologicalImagesDatasetMode\n",
    "from utils.scoring import topcoder_metric\n",
    "from predict import get_prediction_filename"
   ]
  },
  {
   "cell_type": "code",
   "execution_count": 5,
   "metadata": {
    "collapsed": true
   },
   "outputs": [],
   "source": [
    "nb_folds = 5\n",
    "model_name='unet_ds'\n",
    "patch_size_train = 0\n",
    "patch_size_predict = 0\n",
    "use_dice = False\n",
    "use_tta = False"
   ]
  },
  {
   "cell_type": "code",
   "execution_count": 6,
   "metadata": {
    "collapsed": true
   },
   "outputs": [],
   "source": [
    "mode = PathologicalImagesDatasetMode.Val\n",
    "base_dir = config.DATASET_TRAIN_DIR"
   ]
  },
  {
   "cell_type": "code",
   "execution_count": 7,
   "metadata": {},
   "outputs": [
    {
     "name": "stdout",
     "output_type": "stream",
     "text": [
      "Fold 0 finished\n",
      "Fold 1 finished\n",
      "Fold 2 finished\n",
      "Fold 3 finished\n",
      "Fold 4 finished\n"
     ]
    }
   ],
   "source": [
    "scores_data = []\n",
    "for fold_number in range(nb_folds):\n",
    "    # load data\n",
    "    dataset = PathologicalImagesDataset(base_dir, mode=mode, nb_folds=nb_folds, fold_number=fold_number)\n",
    "    \n",
    "    images = [dataset[i][0] for i in range(len(dataset))]\n",
    "    masks = [dataset[i][1] for i in range(len(dataset))]    \n",
    "    \n",
    "    images = np.stack(images)\n",
    "    masks = np.stack(masks)\n",
    "    \n",
    "    # load predictions\n",
    "    filename = get_prediction_filename(model_name, mode, patch_size_train, patch_size_predict,fold_number, use_dice, use_tta)\n",
    "    _, predictions = load_pickle(filename) \n",
    "    \n",
    "    # get score at different thresholds\n",
    "    for tr in np.arange(0.1, 1.0, 0.1):\n",
    "        predictions_mask = np.zeros_like(predictions)\n",
    "        predictions_mask[predictions>tr] = 1\n",
    "\n",
    "        score = topcoder_metric(masks, predictions_mask)    \n",
    "        \n",
    "        scores_data.append({'score': score, 'threshold': tr, 'fold': fold_number})\n",
    "    \n",
    "    print(f'Fold {fold_number} finished')\n",
    "        \n",
    "scores_data = pd.DataFrame(scores_data)"
   ]
  },
  {
   "cell_type": "code",
   "execution_count": 8,
   "metadata": {},
   "outputs": [
    {
     "data": {
      "text/plain": [
       "<matplotlib.axes._subplots.AxesSubplot at 0x7fa352f83198>"
      ]
     },
     "execution_count": 8,
     "metadata": {},
     "output_type": "execute_result"
    },
    {
     "data": {
      "image/png": "[encoded data removed]",
      "text/plain": [
       "<matplotlib.figure.Figure at 0x7fa352f72940>"
      ]
     },
     "metadata": {},
     "output_type": "display_data"
    }
   ],
   "source": [
    "pd.pivot_table(scores_data, values='score', columns='fold', index='threshold').plot()"
   ]
  },
  {
   "cell_type": "markdown",
   "metadata": {},
   "source": [
    "# Get scores"
   ]
  },
  {
   "cell_type": "code",
   "execution_count": 49,
   "metadata": {
    "collapsed": true
   },
   "outputs": [],
   "source": [
    "threshold = 0.3"
   ]
  },
  {
   "cell_type": "code",
   "execution_count": 50,
   "metadata": {
    "collapsed": true
   },
   "outputs": [],
   "source": [
    "mode = PathologicalImagesDatasetMode.Val\n",
    "base_dir = config.DATASET_TRAIN_DIR\n",
    "patch_size_train = 0\n",
    "patch_size_predict = 0\n",
    "nb_folds = 5"
   ]
  },
  {
   "cell_type": "code",
   "execution_count": 51,
   "metadata": {},
   "outputs": [
    {
     "name": "stderr",
     "output_type": "stream",
     "text": [
      "INFO:root:Data: PathologicalImagesDatasetMode.Val, fold 0 - 34 images\n"
     ]
    },
    {
     "name": "stdout",
     "output_type": "stream",
     "text": [
      "fold_number\tmodel\tuse_dice\tuse_tta\tscore\n",
      "0\tunet\tFalse\tTrue\t861581.9453645087\n",
      "0\tunet\tFalse\tFalse\t856388.075473714\n",
      "0\ttiramisu\tFalse\tTrue\t841980.7054636072\n",
      "0\ttiramisu\tFalse\tFalse\t841920.7000047597\n",
      "0\tunet_ds\tFalse\tTrue\t870827.7401436195\n"
     ]
    },
    {
     "name": "stderr",
     "output_type": "stream",
     "text": [
      "INFO:root:Data: PathologicalImagesDatasetMode.Val, fold 1 - 34 images\n"
     ]
    },
    {
     "name": "stdout",
     "output_type": "stream",
     "text": [
      "0\tunet_ds\tFalse\tFalse\t868688.3125803142\n",
      "1\tunet\tFalse\tTrue\t828741.1650594576\n",
      "1\tunet\tFalse\tFalse\t828054.5139181466\n",
      "1\ttiramisu\tFalse\tTrue\t820495.5046021653\n",
      "1\ttiramisu\tFalse\tFalse\t819549.0233527272\n",
      "1\tunet_ds\tFalse\tTrue\t836775.9540495817\n"
     ]
    },
    {
     "name": "stderr",
     "output_type": "stream",
     "text": [
      "INFO:root:Data: PathologicalImagesDatasetMode.Val, fold 2 - 34 images\n"
     ]
    },
    {
     "name": "stdout",
     "output_type": "stream",
     "text": [
      "1\tunet_ds\tFalse\tFalse\t833179.513627391\n",
      "2\tunet\tFalse\tTrue\t880977.4456099011\n",
      "2\tunet\tFalse\tFalse\t877221.8103921716\n",
      "2\ttiramisu\tFalse\tTrue\t864623.2980515661\n",
      "2\ttiramisu\tFalse\tFalse\t865309.7979030601\n",
      "2\tunet_ds\tFalse\tTrue\t867754.6401735075\n"
     ]
    },
    {
     "name": "stderr",
     "output_type": "stream",
     "text": [
      "INFO:root:Data: PathologicalImagesDatasetMode.Val, fold 3 - 33 images\n"
     ]
    },
    {
     "name": "stdout",
     "output_type": "stream",
     "text": [
      "2\tunet_ds\tFalse\tFalse\t867487.3014271458\n",
      "3\tunet\tFalse\tTrue\t841106.7541555531\n",
      "3\tunet\tFalse\tFalse\t839104.0363780262\n",
      "3\ttiramisu\tFalse\tTrue\t833891.7861838498\n",
      "3\ttiramisu\tFalse\tFalse\t832344.7085590156\n",
      "3\tunet_ds\tFalse\tTrue\t828269.1378720313\n"
     ]
    },
    {
     "name": "stderr",
     "output_type": "stream",
     "text": [
      "INFO:root:Data: PathologicalImagesDatasetMode.Val, fold 4 - 33 images\n"
     ]
    },
    {
     "name": "stdout",
     "output_type": "stream",
     "text": [
      "3\tunet_ds\tFalse\tFalse\t822842.5378388849\n",
      "4\tunet\tFalse\tTrue\t835410.3440418789\n",
      "4\tunet\tFalse\tFalse\t831864.2985858964\n",
      "4\ttiramisu\tFalse\tTrue\t820316.0105548371\n",
      "4\ttiramisu\tFalse\tFalse\t819489.5746839923\n",
      "4\tunet_ds\tFalse\tTrue\t832823.9518070319\n",
      "4\tunet_ds\tFalse\tFalse\t825290.1901793727\n"
     ]
    }
   ],
   "source": [
    "print(f'fold_number\\tmodel\\tuse_dice\\tuse_tta\\tscore')\n",
    "for fold_number in range(nb_folds):\n",
    "    dataset = PathologicalImagesDataset(base_dir, mode=mode, nb_folds=nb_folds, fold_number=fold_number)\n",
    "    masks = [dataset[i][1] for i in range(len(dataset))]\n",
    "    masks = np.stack(masks)\n",
    "\n",
    "    for model in ['unet', 'tiramisu', 'unet_ds']:\n",
    "        for use_tta in [True, False]:\n",
    "            filename = get_prediction_filename(model, mode, patch_size_train, patch_size_predict,fold_number, use_dice, use_tta)\n",
    "            _, model_predictions = load_pickle(filename)\n",
    "            model_predictions_mask = np.zeros_like(model_predictions)\n",
    "            model_predictions_mask[model_predictions>threshold] = 1\n",
    "\n",
    "            score = topcoder_metric(masks, model_predictions_mask)\n",
    "\n",
    "            print(f'{fold_number}\\t{model}\\t{use_dice}\\t{use_tta}\\t{score}')"
   ]
  },
  {
   "cell_type": "code",
   "execution_count": null,
   "metadata": {
    "collapsed": true
   },
   "outputs": [],
   "source": []
  }
 ],
 "metadata": {
  "kernelspec": {
   "display_name": "Python 3",
   "language": "python",
   "name": "python3"
  },
  "language_info": {
   "codemirror_mode": {
    "name": "ipython",
    "version": 3
   },
   "file_extension": ".py",
   "mimetype": "text/x-python",
   "name": "python",
   "nbconvert_exporter": "python",
   "pygments_lexer": "ipython3",
   "version": "3.6.1+"
  }
 },
 "nbformat": 4,
 "nbformat_minor": 2
}
