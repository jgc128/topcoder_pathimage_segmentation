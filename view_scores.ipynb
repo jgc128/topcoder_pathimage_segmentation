{
 "cells": [
  {
   "cell_type": "code",
   "execution_count": 9,
   "metadata": {
    "collapsed": true
   },
   "outputs": [],
   "source": [
    "%matplotlib inline"
   ]
  },
  {
   "cell_type": "code",
   "execution_count": 59,
   "metadata": {
    "collapsed": true
   },
   "outputs": [],
   "source": [
    "import numpy as np\n",
    "import pandas as pd\n",
    "from skimage.morphology import remove_small_holes, remove_small_objects"
   ]
  },
  {
   "cell_type": "code",
   "execution_count": 11,
   "metadata": {
    "collapsed": true
   },
   "outputs": [],
   "source": [
    "import matplotlib.pyplot as plt"
   ]
  },
  {
   "cell_type": "code",
   "execution_count": 12,
   "metadata": {
    "collapsed": true
   },
   "outputs": [],
   "source": [
    "import config\n",
    "from utils.io import load_pickle\n",
    "from utils.torch.datasets import PathologicalImagesDataset, PathologicalImagesDatasetMode\n",
    "from utils.scoring import topcoder_metric\n",
    "from predict import get_prediction_filename"
   ]
  },
  {
   "cell_type": "code",
   "execution_count": 42,
   "metadata": {
    "collapsed": true
   },
   "outputs": [],
   "source": [
    "nb_folds = 5\n",
    "model_name='unet_ds'\n",
    "patch_size_train = 0\n",
    "patch_size_predict = 0\n",
    "use_dice = False\n",
    "use_tta = True"
   ]
  },
  {
   "cell_type": "code",
   "execution_count": 43,
   "metadata": {
    "collapsed": true
   },
   "outputs": [],
   "source": [
    "mode = PathologicalImagesDatasetMode.Val\n",
    "base_dir = config.DATASET_TRAIN_DIR"
   ]
  },
  {
   "cell_type": "code",
   "execution_count": 44,
   "metadata": {},
   "outputs": [],
   "source": [
    "masks = []\n",
    "predictions = []\n",
    "for fold_number in range(nb_folds):\n",
    "    # load data\n",
    "    dataset = PathologicalImagesDataset(base_dir, mode=mode, nb_folds=nb_folds, fold_number=fold_number)\n",
    "    \n",
    "    fold_images = [dataset[i][0] for i in range(len(dataset))]\n",
    "    fold_masks = [dataset[i][1] for i in range(len(dataset))]    \n",
    "\n",
    "    fold_masks = np.stack(fold_masks)\n",
    "    \n",
    "    # load predictions\n",
    "    filename = get_prediction_filename(model_name, mode, patch_size_train, patch_size_predict,fold_number, use_dice, use_tta)\n",
    "    _, fold_predictions = load_pickle(filename) \n",
    "    \n",
    "    masks.append(fold_masks)\n",
    "    predictions.append(fold_predictions)"
   ]
  },
  {
   "cell_type": "code",
   "execution_count": 45,
   "metadata": {},
   "outputs": [],
   "source": [
    "masks = np.concatenate(masks, axis=0)\n",
    "predictions = np.concatenate(predictions, axis=0)"
   ]
  },
  {
   "cell_type": "code",
   "execution_count": 46,
   "metadata": {},
   "outputs": [
    {
     "data": {
      "text/plain": [
       "((168, 500, 500), (168, 500, 500))"
      ]
     },
     "execution_count": 46,
     "metadata": {},
     "output_type": "execute_result"
    }
   ],
   "source": [
    "masks.shape, predictions.shape"
   ]
  },
  {
   "cell_type": "code",
   "execution_count": 55,
   "metadata": {
    "collapsed": true
   },
   "outputs": [],
   "source": [
    "threshold = 0.4"
   ]
  },
  {
   "cell_type": "code",
   "execution_count": 68,
   "metadata": {
    "collapsed": true
   },
   "outputs": [],
   "source": [
    "predictions_masks = np.zeros_like(predictions, dtype=np.bool)\n",
    "predictions_masks[predictions>threshold] = 1"
   ]
  },
  {
   "cell_type": "code",
   "execution_count": 69,
   "metadata": {
    "collapsed": true
   },
   "outputs": [],
   "source": [
    "score = topcoder_metric(masks, predictions_masks)"
   ]
  },
  {
   "cell_type": "code",
   "execution_count": 70,
   "metadata": {},
   "outputs": [
    {
     "name": "stdout",
     "output_type": "stream",
     "text": [
      "Score: 855778.127929\n"
     ]
    }
   ],
   "source": [
    "print('Score:', score)"
   ]
  },
  {
   "cell_type": "markdown",
   "metadata": {},
   "source": [
    "## Remove small objects"
   ]
  },
  {
   "cell_type": "code",
   "execution_count": 127,
   "metadata": {},
   "outputs": [],
   "source": [
    "scores = []\n",
    "for size in range(10,200,25):\n",
    "    predictions_mask_wo = remove_small_objects(predictions_masks.astype(np.bool), size)\n",
    "    predictions_mask_wh = remove_small_holes(predictions_masks.astype(np.bool), size)\n",
    "    predictions_mask_who = remove_small_holes(remove_small_objects(predictions_masks.astype(np.bool), size), size)\n",
    "    \n",
    "    score_wo = topcoder_metric(masks, predictions_mask_wo.astype(np.float))\n",
    "    score_wh = topcoder_metric(masks, predictions_mask_wh.astype(np.float))\n",
    "    score_who = topcoder_metric(masks, predictions_mask_who.astype(np.float))\n",
    "        \n",
    "    scores.append({'size': size,'objects': score_wo, 'holes':score_wh, 'objects_holes': score_who})"
   ]
  },
  {
   "cell_type": "code",
   "execution_count": 128,
   "metadata": {
    "collapsed": true
   },
   "outputs": [],
   "source": [
    "scores = pd.DataFrame(scores)"
   ]
  },
  {
   "cell_type": "code",
   "execution_count": 129,
   "metadata": {},
   "outputs": [
    {
     "data": {
      "text/html": [
       "<div>\n",
       "<style>\n",
       "    .dataframe thead tr:only-child th {\n",
       "        text-align: right;\n",
       "    }\n",
       "\n",
       "    .dataframe thead th {\n",
       "        text-align: left;\n",
       "    }\n",
       "\n",
       "    .dataframe tbody tr th {\n",
       "        vertical-align: top;\n",
       "    }\n",
       "</style>\n",
       "<table border=\"1\" class=\"dataframe\">\n",
       "  <thead>\n",
       "    <tr style=\"text-align: right;\">\n",
       "      <th></th>\n",
       "      <th>holes</th>\n",
       "      <th>objects</th>\n",
       "      <th>objects_holes</th>\n",
       "      <th>size</th>\n",
       "    </tr>\n",
       "  </thead>\n",
       "  <tbody>\n",
       "    <tr>\n",
       "      <th>0</th>\n",
       "      <td>855779.150770</td>\n",
       "      <td>855783.896329</td>\n",
       "      <td>855784.919054</td>\n",
       "      <td>10</td>\n",
       "    </tr>\n",
       "    <tr>\n",
       "      <th>1</th>\n",
       "      <td>855781.935917</td>\n",
       "      <td>855814.254897</td>\n",
       "      <td>855818.063389</td>\n",
       "      <td>35</td>\n",
       "    </tr>\n",
       "    <tr>\n",
       "      <th>2</th>\n",
       "      <td>855780.158994</td>\n",
       "      <td>855819.535943</td>\n",
       "      <td>855821.567088</td>\n",
       "      <td>60</td>\n",
       "    </tr>\n",
       "    <tr>\n",
       "      <th>3</th>\n",
       "      <td>855787.259297</td>\n",
       "      <td>855800.096919</td>\n",
       "      <td>855809.227562</td>\n",
       "      <td>85</td>\n",
       "    </tr>\n",
       "    <tr>\n",
       "      <th>4</th>\n",
       "      <td>855787.259297</td>\n",
       "      <td>855791.553766</td>\n",
       "      <td>855800.684510</td>\n",
       "      <td>110</td>\n",
       "    </tr>\n",
       "    <tr>\n",
       "      <th>5</th>\n",
       "      <td>855791.117144</td>\n",
       "      <td>855850.782909</td>\n",
       "      <td>855863.771411</td>\n",
       "      <td>135</td>\n",
       "    </tr>\n",
       "    <tr>\n",
       "      <th>6</th>\n",
       "      <td>855791.117144</td>\n",
       "      <td>855798.760820</td>\n",
       "      <td>855811.749324</td>\n",
       "      <td>160</td>\n",
       "    </tr>\n",
       "    <tr>\n",
       "      <th>7</th>\n",
       "      <td>855791.117144</td>\n",
       "      <td>855719.480918</td>\n",
       "      <td>855732.469623</td>\n",
       "      <td>185</td>\n",
       "    </tr>\n",
       "  </tbody>\n",
       "</table>\n",
       "</div>"
      ],
      "text/plain": [
       "           holes        objects  objects_holes  size\n",
       "0  855779.150770  855783.896329  855784.919054    10\n",
       "1  855781.935917  855814.254897  855818.063389    35\n",
       "2  855780.158994  855819.535943  855821.567088    60\n",
       "3  855787.259297  855800.096919  855809.227562    85\n",
       "4  855787.259297  855791.553766  855800.684510   110\n",
       "5  855791.117144  855850.782909  855863.771411   135\n",
       "6  855791.117144  855798.760820  855811.749324   160\n",
       "7  855791.117144  855719.480918  855732.469623   185"
      ]
     },
     "execution_count": 129,
     "metadata": {},
     "output_type": "execute_result"
    }
   ],
   "source": [
    "scores"
   ]
  },
  {
   "cell_type": "code",
   "execution_count": 130,
   "metadata": {},
   "outputs": [
    {
     "data": {
      "text/plain": [
       "<matplotlib.lines.Line2D at 0x7fa352e85320>"
      ]
     },
     "execution_count": 130,
     "metadata": {},
     "output_type": "execute_result"
    },
    {
     "data": {
      "image/png": "[encoded data removed]",
      "text/plain": [
       "<matplotlib.figure.Figure at 0x7fa352e85e48>"
      ]
     },
     "metadata": {},
     "output_type": "display_data"
    }
   ],
   "source": [
    "ax = scores.plot(x='size', y=['objects','holes','objects_holes',])\n",
    "ax.axhline(y=score, c='black')"
   ]
  },
  {
   "cell_type": "code",
   "execution_count": null,
   "metadata": {
    "collapsed": true
   },
   "outputs": [],
   "source": []
  }
 ],
 "metadata": {
  "kernelspec": {
   "display_name": "Python 3",
   "language": "python",
   "name": "python3"
  },
  "language_info": {
   "codemirror_mode": {
    "name": "ipython",
    "version": 3
   },
   "file_extension": ".py",
   "mimetype": "text/x-python",
   "name": "python",
   "nbconvert_exporter": "python",
   "pygments_lexer": "ipython3",
   "version": "3.6.1+"
  }
 },
 "nbformat": 4,
 "nbformat_minor": 2
}
