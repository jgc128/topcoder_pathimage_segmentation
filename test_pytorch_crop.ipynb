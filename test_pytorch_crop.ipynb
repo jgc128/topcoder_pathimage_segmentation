{
 "cells": [
  {
   "cell_type": "code",
   "execution_count": 1,
   "metadata": {
    "collapsed": true
   },
   "outputs": [],
   "source": [
    "import numpy as np"
   ]
  },
  {
   "cell_type": "code",
   "execution_count": 2,
   "metadata": {
    "collapsed": true
   },
   "outputs": [],
   "source": [
    "import torch\n",
    "import torch.nn"
   ]
  },
  {
   "cell_type": "markdown",
   "metadata": {},
   "source": [
    "# Create data"
   ]
  },
  {
   "cell_type": "code",
   "execution_count": 30,
   "metadata": {
    "collapsed": true
   },
   "outputs": [],
   "source": [
    "a = np.array([\n",
    "    [2,2,2,2,2],\n",
    "    [2,1,1,1,2],\n",
    "    [2,1,0,1,2],\n",
    "    [2,1,1,1,2],\n",
    "    [2,2,2,2,2],    \n",
    "])"
   ]
  },
  {
   "cell_type": "code",
   "execution_count": 31,
   "metadata": {
    "collapsed": true
   },
   "outputs": [],
   "source": [
    "b = np.stack([a, a+0.1], axis=0)"
   ]
  },
  {
   "cell_type": "code",
   "execution_count": 32,
   "metadata": {},
   "outputs": [
    {
     "data": {
      "text/plain": [
       "(2, 5, 5)"
      ]
     },
     "execution_count": 32,
     "metadata": {},
     "output_type": "execute_result"
    }
   ],
   "source": [
    "b.shape"
   ]
  },
  {
   "cell_type": "code",
   "execution_count": 33,
   "metadata": {
    "collapsed": true
   },
   "outputs": [],
   "source": [
    "c = np.stack([b, b+10])"
   ]
  },
  {
   "cell_type": "code",
   "execution_count": 34,
   "metadata": {},
   "outputs": [
    {
     "data": {
      "text/plain": [
       "(2, 2, 5, 5)"
      ]
     },
     "execution_count": 34,
     "metadata": {},
     "output_type": "execute_result"
    }
   ],
   "source": [
    "c.shape"
   ]
  },
  {
   "cell_type": "code",
   "execution_count": 35,
   "metadata": {},
   "outputs": [
    {
     "data": {
      "text/plain": [
       "array([[[ 2. ,  2. ,  2. ,  2. ,  2. ],\n",
       "        [ 2. ,  1. ,  1. ,  1. ,  2. ],\n",
       "        [ 2. ,  1. ,  0. ,  1. ,  2. ],\n",
       "        [ 2. ,  1. ,  1. ,  1. ,  2. ],\n",
       "        [ 2. ,  2. ,  2. ,  2. ,  2. ]],\n",
       "\n",
       "       [[ 2.1,  2.1,  2.1,  2.1,  2.1],\n",
       "        [ 2.1,  1.1,  1.1,  1.1,  2.1],\n",
       "        [ 2.1,  1.1,  0.1,  1.1,  2.1],\n",
       "        [ 2.1,  1.1,  1.1,  1.1,  2.1],\n",
       "        [ 2.1,  2.1,  2.1,  2.1,  2.1]]])"
      ]
     },
     "execution_count": 35,
     "metadata": {},
     "output_type": "execute_result"
    }
   ],
   "source": [
    "c[0]"
   ]
  },
  {
   "cell_type": "code",
   "execution_count": 36,
   "metadata": {
    "collapsed": true
   },
   "outputs": [],
   "source": [
    "tensor = torch.from_numpy(c)"
   ]
  },
  {
   "cell_type": "code",
   "execution_count": 37,
   "metadata": {},
   "outputs": [
    {
     "data": {
      "text/plain": [
       "\n",
       "(0 ,0 ,.,.) = \n",
       "   2.0000   2.0000   2.0000   2.0000   2.0000\n",
       "   2.0000   1.0000   1.0000   1.0000   2.0000\n",
       "   2.0000   1.0000   0.0000   1.0000   2.0000\n",
       "   2.0000   1.0000   1.0000   1.0000   2.0000\n",
       "   2.0000   2.0000   2.0000   2.0000   2.0000\n",
       "\n",
       "(0 ,1 ,.,.) = \n",
       "   2.1000   2.1000   2.1000   2.1000   2.1000\n",
       "   2.1000   1.1000   1.1000   1.1000   2.1000\n",
       "   2.1000   1.1000   0.1000   1.1000   2.1000\n",
       "   2.1000   1.1000   1.1000   1.1000   2.1000\n",
       "   2.1000   2.1000   2.1000   2.1000   2.1000\n",
       "\n",
       "(1 ,0 ,.,.) = \n",
       "  12.0000  12.0000  12.0000  12.0000  12.0000\n",
       "  12.0000  11.0000  11.0000  11.0000  12.0000\n",
       "  12.0000  11.0000  10.0000  11.0000  12.0000\n",
       "  12.0000  11.0000  11.0000  11.0000  12.0000\n",
       "  12.0000  12.0000  12.0000  12.0000  12.0000\n",
       "\n",
       "(1 ,1 ,.,.) = \n",
       "  12.1000  12.1000  12.1000  12.1000  12.1000\n",
       "  12.1000  11.1000  11.1000  11.1000  12.1000\n",
       "  12.1000  11.1000  10.1000  11.1000  12.1000\n",
       "  12.1000  11.1000  11.1000  11.1000  12.1000\n",
       "  12.1000  12.1000  12.1000  12.1000  12.1000\n",
       "[torch.DoubleTensor of size 2x2x5x5]"
      ]
     },
     "execution_count": 37,
     "metadata": {},
     "output_type": "execute_result"
    }
   ],
   "source": [
    "tensor"
   ]
  },
  {
   "cell_type": "code",
   "execution_count": 38,
   "metadata": {},
   "outputs": [
    {
     "data": {
      "text/plain": [
       "\n",
       " 2  2  2  2  2\n",
       " 2  1  1  1  2\n",
       " 2  1  0  1  2\n",
       " 2  1  1  1  2\n",
       " 2  2  2  2  2\n",
       "[torch.DoubleTensor of size 5x5]"
      ]
     },
     "execution_count": 38,
     "metadata": {},
     "output_type": "execute_result"
    }
   ],
   "source": [
    "tensor[0,0,:,:]"
   ]
  },
  {
   "cell_type": "code",
   "execution_count": 39,
   "metadata": {},
   "outputs": [
    {
     "data": {
      "text/plain": [
       "\n",
       " 2.1000  2.1000  2.1000  2.1000  2.1000\n",
       " 2.1000  1.1000  1.1000  1.1000  2.1000\n",
       " 2.1000  1.1000  0.1000  1.1000  2.1000\n",
       " 2.1000  1.1000  1.1000  1.1000  2.1000\n",
       " 2.1000  2.1000  2.1000  2.1000  2.1000\n",
       "[torch.DoubleTensor of size 5x5]"
      ]
     },
     "execution_count": 39,
     "metadata": {},
     "output_type": "execute_result"
    }
   ],
   "source": [
    "tensor[0,1,:,:]"
   ]
  },
  {
   "cell_type": "markdown",
   "metadata": {},
   "source": [
    "# Crop"
   ]
  },
  {
   "cell_type": "code",
   "execution_count": 29,
   "metadata": {
    "collapsed": true
   },
   "outputs": [],
   "source": [
    "crop = 1"
   ]
  },
  {
   "cell_type": "code",
   "execution_count": 52,
   "metadata": {
    "collapsed": true
   },
   "outputs": [],
   "source": [
    "cropped = tensor[:,:,crop:-crop,crop:-crop]"
   ]
  },
  {
   "cell_type": "code",
   "execution_count": 53,
   "metadata": {},
   "outputs": [
    {
     "data": {
      "text/plain": [
       "\n",
       " 1  1  1\n",
       " 1  0  1\n",
       " 1  1  1\n",
       "[torch.DoubleTensor of size 3x3]"
      ]
     },
     "execution_count": 53,
     "metadata": {},
     "output_type": "execute_result"
    }
   ],
   "source": [
    "cropped[0,0,:,:]"
   ]
  },
  {
   "cell_type": "code",
   "execution_count": 54,
   "metadata": {},
   "outputs": [
    {
     "data": {
      "text/plain": [
       "\n",
       " 1.1000  1.1000  1.1000\n",
       " 1.1000  0.1000  1.1000\n",
       " 1.1000  1.1000  1.1000\n",
       "[torch.DoubleTensor of size 3x3]"
      ]
     },
     "execution_count": 54,
     "metadata": {},
     "output_type": "execute_result"
    }
   ],
   "source": [
    "cropped[0,1,:,:]"
   ]
  },
  {
   "cell_type": "code",
   "execution_count": null,
   "metadata": {
    "collapsed": true
   },
   "outputs": [],
   "source": []
  }
 ],
 "metadata": {
  "kernelspec": {
   "display_name": "Python 3",
   "language": "python",
   "name": "python3"
  },
  "language_info": {
   "codemirror_mode": {
    "name": "ipython",
    "version": 3
   },
   "file_extension": ".py",
   "mimetype": "text/x-python",
   "name": "python",
   "nbconvert_exporter": "python",
   "pygments_lexer": "ipython3",
   "version": "3.6.1+"
  }
 },
 "nbformat": 4,
 "nbformat_minor": 2
}
